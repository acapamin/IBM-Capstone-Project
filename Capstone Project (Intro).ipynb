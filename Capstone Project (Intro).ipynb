{
 "cells": [
  {
   "cell_type": "markdown",
   "metadata": {},
   "source": [
    "# Capstone Project - The Battle of Restaurant Neighborhoods\n",
    "\n"
   ]
  },
  {
   "cell_type": "markdown",
   "metadata": {},
   "source": [
    "# New York City Food Choice\n",
    "\n"
   ]
  },
  {
   "cell_type": "markdown",
   "metadata": {},
   "source": [
    "**Introduction/Business problem**"
   ]
  },
  {
   "cell_type": "markdown",
   "metadata": {},
   "source": [
    "New York City is one of the most visited cities, full of vibrant international food scene, and ranked as the top cities for food. This can be good and bad news for tourists as finding the right place to stay, close to restaurants with desired cuisines, is undoubtedly a huge challenge. Great food or restaurant is always one of the biggest factors in determining strategic location to stay for tourists.\n",
    "\n",
    "This project is aimed to provide recommendations to tourists in New York City with neighborhood clusters, categorised by top cuisines in the vicinity, which facilitates them in choosing the best place, either for long or short stay. The chosen scenario for this project is to recommend neighborhoods in Bronx, New York, to tourists who are looking for an area with specific cuisine such as Italian, Spanish etc."
   ]
  },
  {
   "cell_type": "markdown",
   "metadata": {},
   "source": [
    "**Description of the data**"
   ]
  },
  {
   "cell_type": "markdown",
   "metadata": {},
   "source": [
    "The following data is required to conduct the project analysis:\n",
    "1.\tList of neighborhoods in Bronx, New York, including geo-coordinates:\n",
    "-   Source: https://cocl.us/new_york_dataset (stored in json format).\n",
    "-   Relevant information, such as borough, neighborhood, geo-coordiantes, are extracted using python library json.\n",
    "2.\tTop venues in each neighborhood, focusing of restaurant categories:\n",
    "-   Data is extracted from Foursquare through an API using python library request.\n",
    "-   Pandas dataframe will be created in data manipulation, such as dataset with list of neighborhoods with restaurant categories only, which each category will be one-hot encoding for clustering algorithm."
   ]
  },
  {
   "cell_type": "markdown",
   "metadata": {},
   "source": []
  }
 ],
 "metadata": {
  "kernelspec": {
   "display_name": "Python 3",
   "language": "python",
   "name": "python3"
  },
  "language_info": {
   "codemirror_mode": {
    "name": "ipython",
    "version": 3
   },
   "file_extension": ".py",
   "mimetype": "text/x-python",
   "name": "python",
   "nbconvert_exporter": "python",
   "pygments_lexer": "ipython3",
   "version": "3.8.5"
  }
 },
 "nbformat": 4,
 "nbformat_minor": 4
}
